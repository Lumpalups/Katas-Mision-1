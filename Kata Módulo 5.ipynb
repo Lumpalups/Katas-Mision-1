{
 "cells": [
  {
   "cell_type": "markdown",
   "id": "dac306b4",
   "metadata": {},
   "source": [
    "# Ejercicio 1- Utilizar operadores arimtéticos"
   ]
  },
  {
   "cell_type": "code",
   "execution_count": 1,
   "id": "1cb0f036",
   "metadata": {},
   "outputs": [
    {
     "name": "stdout",
     "output_type": "stream",
     "text": [
      "628949330\n",
      "390577533.93\n"
     ]
    }
   ],
   "source": [
    "Jupiter=778547200\n",
    "Tierra=149597870\n",
    "\n",
    "distancia=Jupiter-Tierra\n",
    "d=distancia*0.621\n",
    "\n",
    "print(distancia)\n",
    "print(d)"
   ]
  },
  {
   "cell_type": "markdown",
   "id": "8f7c358b",
   "metadata": {},
   "source": [
    "# Ejercicio 2"
   ]
  },
  {
   "cell_type": "code",
   "execution_count": 7,
   "id": "b4975be2",
   "metadata": {},
   "outputs": [
    {
     "name": "stdout",
     "output_type": "stream",
     "text": [
      "Introduce la distancia al Sol desde el planeta157900000\n",
      "Introduce la distancia al Sol desde el planeta2149600000\n"
     ]
    }
   ],
   "source": [
    "planeta1=input(\"Introduce la distancia al Sol desde el planeta1\")\n",
    "planeta2=input(\"Introduce la distancia al Sol desde el planeta2\")"
   ]
  },
  {
   "cell_type": "code",
   "execution_count": 8,
   "id": "4e8b9b2b",
   "metadata": {},
   "outputs": [],
   "source": [
    "planeta1=int(planeta1)\n",
    "planeta2=int(planeta2)"
   ]
  },
  {
   "cell_type": "code",
   "execution_count": 10,
   "id": "e738c839",
   "metadata": {},
   "outputs": [
    {
     "name": "stdout",
     "output_type": "stream",
     "text": [
      "56945700.0\n"
     ]
    }
   ],
   "source": [
    "d=abs(planeta1-planeta2)\n",
    "distancia=d*0.621\n",
    "print(distancia)"
   ]
  },
  {
   "cell_type": "code",
   "execution_count": null,
   "id": "0a546d21",
   "metadata": {},
   "outputs": [],
   "source": []
  }
 ],
 "metadata": {
  "kernelspec": {
   "display_name": "Python 3 (ipykernel)",
   "language": "python",
   "name": "python3"
  },
  "language_info": {
   "codemirror_mode": {
    "name": "ipython",
    "version": 3
   },
   "file_extension": ".py",
   "mimetype": "text/x-python",
   "name": "python",
   "nbconvert_exporter": "python",
   "pygments_lexer": "ipython3",
   "version": "3.9.7"
  }
 },
 "nbformat": 4,
 "nbformat_minor": 5
}
