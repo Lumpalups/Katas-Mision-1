{
 "cells": [
  {
   "cell_type": "markdown",
   "id": "9f12ad01",
   "metadata": {},
   "source": [
    "# Ejercicio 1: Transformar cadenas"
   ]
  },
  {
   "cell_type": "code",
   "execution_count": null,
   "id": "8b1bf987",
   "metadata": {},
   "outputs": [],
   "source": []
  },
  {
   "cell_type": "code",
   "execution_count": 2,
   "id": "3d344aa1",
   "metadata": {},
   "outputs": [],
   "source": [
    "text = \"\"\"Interesting facts about the Moon. The Moon is Earth's only satellite. There are several interesting facts about the Moon and how it affects life here on Earth. \n",
    "On average, the Moon moves 4cm away from the Earth every year. This yearly drift is not significant enough to cause immediate effects on Earth. The highest daylight temperature of the Moon is 127 C.\"\"\""
   ]
  },
  {
   "cell_type": "code",
   "execution_count": 6,
   "id": "585b31d0",
   "metadata": {},
   "outputs": [
    {
     "name": "stdout",
     "output_type": "stream",
     "text": [
      "['Interesting facts about the Moon', \" The Moon is Earth's only satellite\", ' There are several interesting facts about the Moon and how it affects life here on Earth', ' \\nOn average, the Moon moves 4cm away from the Earth every year', ' This yearly drift is not significant enough to cause immediate effects on Earth', ' The highest daylight temperature of the Moon is 127 C', '']\n"
     ]
    }
   ],
   "source": [
    "ts=text.split('.')\n",
    "print(ts)"
   ]
  },
  {
   "cell_type": "code",
   "execution_count": 11,
   "id": "5b5bbd63",
   "metadata": {},
   "outputs": [
    {
     "name": "stdout",
     "output_type": "stream",
     "text": [
      " \n",
      "On average, the Moon moves 4cm away from the Earth every year\n",
      " The highest daylight temperature of the Moon is 127 C\n"
     ]
    }
   ],
   "source": [
    "palabras=['average','temperature', 'distance']\n",
    "\n",
    "for sentence in ts:\n",
    "    for key_word in palabras:\n",
    "        if key_word in sentence:\n",
    "            print(sentence)\n",
    "            break"
   ]
  },
  {
   "cell_type": "code",
   "execution_count": 26,
   "id": "dbf52433",
   "metadata": {},
   "outputs": [
    {
     "name": "stdout",
     "output_type": "stream",
     "text": [
      " \n",
      "On average, the Moon moves 4cm away from the Earth every year\n",
      " The highest daylight temperature of the Moon is 127 Celsius\n"
     ]
    }
   ],
   "source": [
    "for sentence in ts:\n",
    "    for key_word in palabras:\n",
    "        if key_word in sentence:\n",
    "            print(sentence.replace('C', 'Celsius'))\n",
    "            break"
   ]
  },
  {
   "cell_type": "markdown",
   "id": "183f7762",
   "metadata": {},
   "source": [
    "# Ejercicio 2: Formateando Cadenas"
   ]
  },
  {
   "cell_type": "code",
   "execution_count": 54,
   "id": "e738be3c",
   "metadata": {},
   "outputs": [
    {
     "name": "stdout",
     "output_type": "stream",
     "text": [
      "EARTH'S AND MOON'S GRAVITY.\n"
     ]
    }
   ],
   "source": [
    "name= \"Moon\"\n",
    "gravity= 0.00162\n",
    "planet= \"Earth\"\n",
    "t=(\"{}'s and {}'s gravity.\".format(planet,name))\n",
    "print(t.upper())"
   ]
  },
  {
   "cell_type": "code",
   "execution_count": 55,
   "id": "11d8332d",
   "metadata": {},
   "outputs": [],
   "source": [
    "gravity=0.00162*1000\n"
   ]
  },
  {
   "cell_type": "code",
   "execution_count": 56,
   "id": "b822a3ff",
   "metadata": {},
   "outputs": [],
   "source": [
    "multilinea = f\"\"\"Earth's and moon's facts\n",
    "{'.'*80} \n",
    "Nombre del planeta: {planet} \n",
    "Gravedad en {name}: {gravity * 1000} m/s2 \n",
    "\"\"\""
   ]
  },
  {
   "cell_type": "code",
   "execution_count": 57,
   "id": "b511f542",
   "metadata": {},
   "outputs": [
    {
     "name": "stdout",
     "output_type": "stream",
     "text": [
      "Earth's and moon's facts\n",
      "................................................................................ \n",
      "Nombre del planeta: Earth \n",
      "Gravedad en Moon: 1619.9999999999998 m/s2 \n",
      "\n"
     ]
    }
   ],
   "source": [
    "print(multilinea)"
   ]
  },
  {
   "cell_type": "code",
   "execution_count": 61,
   "id": "457fc6f5",
   "metadata": {},
   "outputs": [
    {
     "name": "stdout",
     "output_type": "stream",
     "text": [
      "Earth'S And Moon'S Gravity.\n",
      "Earth's and moon's facts\n",
      "................................................................................ \n",
      "Nombre del planeta: Earth \n",
      "Gravedad en Moon: 1619.9999999999998 m/s2 \n",
      "\n",
      "\n"
     ]
    }
   ],
   "source": [
    "titulo=f\"\"\"{t.title()}\n",
    "{multilinea}\n",
    "\"\"\"\n",
    "print(titulo)"
   ]
  },
  {
   "cell_type": "markdown",
   "id": "4302d79a",
   "metadata": {},
   "source": [
    "# Nuevos datos muestra"
   ]
  },
  {
   "cell_type": "code",
   "execution_count": 65,
   "id": "198d6e00",
   "metadata": {},
   "outputs": [],
   "source": [
    "planet='Marte'\n",
    "gravity=0.00143\n",
    "name='Ganímedes'"
   ]
  },
  {
   "cell_type": "code",
   "execution_count": 66,
   "id": "a9ec0d87",
   "metadata": {},
   "outputs": [
    {
     "name": "stdout",
     "output_type": "stream",
     "text": [
      "Earth's and moon's facts\n",
      "................................................................................ \n",
      "Nombre del planeta: Earth \n",
      "Gravedad en Moon: 1619.9999999999998 m/s2 \n",
      "\n"
     ]
    }
   ],
   "source": [
    "print(multilinea)"
   ]
  },
  {
   "cell_type": "code",
   "execution_count": 68,
   "id": "01a3792c",
   "metadata": {},
   "outputs": [
    {
     "name": "stdout",
     "output_type": "stream",
     "text": [
      " Nuevos datos\n",
      "--------------------------------------------------------------------------------\n",
      "Nombre del planeta:Marte\n",
      "Gravedad en Ganímedes= 0.00143 m/s2\n",
      "\n"
     ]
    }
   ],
   "source": [
    "plantilla=f\"\"\" Nuevos datos\n",
    "{\"-\"*80}\n",
    "Nombre del planeta:{planet}\n",
    "Gravedad en {name}= {gravity} m/s2\n",
    "\"\"\"\n",
    "print(plantilla.format(planet=planet, name=name, gravity=gravity))\n"
   ]
  },
  {
   "cell_type": "code",
   "execution_count": null,
   "id": "495e1992",
   "metadata": {},
   "outputs": [],
   "source": []
  }
 ],
 "metadata": {
  "kernelspec": {
   "display_name": "Python 3 (ipykernel)",
   "language": "python",
   "name": "python3"
  },
  "language_info": {
   "codemirror_mode": {
    "name": "ipython",
    "version": 3
   },
   "file_extension": ".py",
   "mimetype": "text/x-python",
   "name": "python",
   "nbconvert_exporter": "python",
   "pygments_lexer": "ipython3",
   "version": "3.9.7"
  }
 },
 "nbformat": 4,
 "nbformat_minor": 5
}
