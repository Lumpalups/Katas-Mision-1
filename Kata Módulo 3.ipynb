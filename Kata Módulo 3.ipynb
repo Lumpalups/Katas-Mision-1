{
 "cells": [
  {
   "cell_type": "markdown",
   "id": "1a73ed16",
   "metadata": {},
   "source": [
    "# Ejercicio- Escribir declaraciones if, else, y elif"
   ]
  },
  {
   "cell_type": "code",
   "execution_count": 8,
   "id": "dae97e57",
   "metadata": {},
   "outputs": [
    {
     "name": "stdout",
     "output_type": "stream",
     "text": [
      "¡Advertencia!, ¡Asteroide cerca!\n"
     ]
    }
   ],
   "source": [
    "v_a=49\n",
    "if v_a>25:\n",
    "    print(\"¡Advertencia!, ¡Asteroide cerca!\")\n",
    "else:\n",
    "    print(\"Todo en orden\")\n",
    "\n",
    "\n",
    "\n"
   ]
  },
  {
   "cell_type": "markdown",
   "id": "4e9ac71b",
   "metadata": {},
   "source": [
    "#Problema 2"
   ]
  },
  {
   "cell_type": "code",
   "execution_count": 9,
   "id": "28495fc1",
   "metadata": {},
   "outputs": [
    {
     "name": "stdout",
     "output_type": "stream",
     "text": [
      "Continua con tu vida :) \n"
     ]
    }
   ],
   "source": [
    "v_a=19\n",
    "\n",
    "if v_a>20:\n",
    "    print(\"¡Voltea a buscar una luz mágica al cielo\")\n",
    "elif v_a==20:\n",
    "    print(\"¡Voltea a buscar una luz mágica al cielo\")\n",
    "else:\n",
    "    print(\"Continua con tu vida :) \")"
   ]
  },
  {
   "cell_type": "code",
   "execution_count": 17,
   "id": "c9d83548",
   "metadata": {},
   "outputs": [
    {
     "name": "stdout",
     "output_type": "stream",
     "text": [
      "¡Advertencia! pero voltea a ver si hay una luz mágica en el cielo\n",
      "Si el asteroide golpea la Tierra, causaría mucho daño\n"
     ]
    }
   ],
   "source": [
    "t_a=26 #tamaño del asteroide\n",
    "v_a=25 #velocidad del asteroide\n",
    "\n",
    "if v_a>25 or v_a>=20:\n",
    "    print(\"¡Advertencia! pero voltea a ver si hay una luz mágica en el cielo\")\n",
    "    \n",
    "    if t_a<25:\n",
    "        print(\"El asteroide se quemará a medida que entre en la atmósfera de la Tierra\")\n",
    "    \n",
    "    elif t_a>25 and t_a<1000:\n",
    "        print(\"Si el asteroide golpea la Tierra, causaría mucho daño\")\n",
    "    \n",
    "else:\n",
    "    print('Sigue con tu vida :)')\n",
    "    \n"
   ]
  },
  {
   "cell_type": "code",
   "execution_count": null,
   "id": "f8a47597",
   "metadata": {},
   "outputs": [],
   "source": []
  }
 ],
 "metadata": {
  "kernelspec": {
   "display_name": "Python 3 (ipykernel)",
   "language": "python",
   "name": "python3"
  },
  "language_info": {
   "codemirror_mode": {
    "name": "ipython",
    "version": 3
   },
   "file_extension": ".py",
   "mimetype": "text/x-python",
   "name": "python",
   "nbconvert_exporter": "python",
   "pygments_lexer": "ipython3",
   "version": "3.9.7"
  }
 },
 "nbformat": 4,
 "nbformat_minor": 5
}
