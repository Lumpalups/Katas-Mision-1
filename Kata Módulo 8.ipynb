{
 "cells": [
  {
   "cell_type": "markdown",
   "id": "f0d95290",
   "metadata": {},
   "source": [
    "# Ejercicio 1: Creación de diccionarios de Python"
   ]
  },
  {
   "cell_type": "code",
   "execution_count": 1,
   "id": "729308b1",
   "metadata": {},
   "outputs": [],
   "source": [
    "planet={'name':'Mars', 'moons':2}"
   ]
  },
  {
   "cell_type": "code",
   "execution_count": 5,
   "id": "cf445e1b",
   "metadata": {},
   "outputs": [
    {
     "data": {
      "text/plain": [
       "2"
      ]
     },
     "execution_count": 5,
     "metadata": {},
     "output_type": "execute_result"
    }
   ],
   "source": [
    "planet['moons']"
   ]
  },
  {
   "cell_type": "code",
   "execution_count": 6,
   "id": "e3fb244e",
   "metadata": {},
   "outputs": [],
   "source": [
    "planet['circunferencia (km)']=({'polar':6752,'equatorial':6792})"
   ]
  },
  {
   "cell_type": "code",
   "execution_count": 7,
   "id": "e3e86708",
   "metadata": {},
   "outputs": [
    {
     "name": "stdout",
     "output_type": "stream",
     "text": [
      "{'name': 'Mars', 'moons': 2, 'circunferencia (km)': {'polar': 6752, 'equatorial': 6792}}\n"
     ]
    }
   ],
   "source": [
    "print(planet)"
   ]
  },
  {
   "cell_type": "markdown",
   "id": "31852896",
   "metadata": {},
   "source": [
    "# Ejercicio 2"
   ]
  },
  {
   "cell_type": "code",
   "execution_count": 9,
   "id": "192a3743",
   "metadata": {},
   "outputs": [
    {
     "name": "stdout",
     "output_type": "stream",
     "text": [
      "dict_values([0, 0, 1, 2, 79, 82, 27, 14, 5, 2, 1, 1])\n",
      "dict_keys(['mercury', 'venus', 'earth', 'mars', 'jupiter', 'saturn', 'uranus', 'neptune', 'pluto', 'haumea', 'makemake', 'eris'])\n"
     ]
    }
   ],
   "source": [
    "planet_moons = {'mercury': 0,'venus': 0, 'earth': 1,'mars': 2,'jupiter': 79,'saturn': 82,'uranus': 27, \n",
    "                'neptune': 14,'pluto': 5, 'haumea': 2,'makemake': 1, 'eris': 1}\n",
    "moons=planet_moons.values()\n",
    "print(moons)\n",
    "planets=planet_moons.keys()\n",
    "print(planets)"
   ]
  },
  {
   "cell_type": "code",
   "execution_count": 13,
   "id": "cd9fd552",
   "metadata": {},
   "outputs": [
    {
     "name": "stdout",
     "output_type": "stream",
     "text": [
      "214\n"
     ]
    }
   ],
   "source": [
    "total_moons= 0\n",
    "for moon in moons:\n",
    "    total_moons= total_moons+moon\n",
    "print(total_moons)\n",
    "    "
   ]
  },
  {
   "cell_type": "code",
   "execution_count": 17,
   "id": "585b91e3",
   "metadata": {},
   "outputs": [
    {
     "name": "stdout",
     "output_type": "stream",
     "text": [
      "12\n"
     ]
    }
   ],
   "source": [
    "nplanets=len(planets)\n",
    "print(nplanets)\n"
   ]
  },
  {
   "cell_type": "code",
   "execution_count": 18,
   "id": "1c6921ce",
   "metadata": {},
   "outputs": [
    {
     "name": "stdout",
     "output_type": "stream",
     "text": [
      "17.833333333333332\n"
     ]
    }
   ],
   "source": [
    "promedio=total_moons/nplanets\n",
    "print(promedio)"
   ]
  },
  {
   "cell_type": "code",
   "execution_count": null,
   "id": "cecbda34",
   "metadata": {},
   "outputs": [],
   "source": []
  }
 ],
 "metadata": {
  "kernelspec": {
   "display_name": "Python 3 (ipykernel)",
   "language": "python",
   "name": "python3"
  },
  "language_info": {
   "codemirror_mode": {
    "name": "ipython",
    "version": 3
   },
   "file_extension": ".py",
   "mimetype": "text/x-python",
   "name": "python",
   "nbconvert_exporter": "python",
   "pygments_lexer": "ipython3",
   "version": "3.9.7"
  }
 },
 "nbformat": 4,
 "nbformat_minor": 5
}
