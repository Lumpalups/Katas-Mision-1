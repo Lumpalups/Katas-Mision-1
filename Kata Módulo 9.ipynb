{
 "cells": [
  {
   "cell_type": "markdown",
   "id": "7ce8052b",
   "metadata": {},
   "source": [
    "# Ejercicio: Uso de funciones en Python"
   ]
  },
  {
   "cell_type": "code",
   "execution_count": 10,
   "id": "5de6edec",
   "metadata": {},
   "outputs": [],
   "source": [
    "def reporte_combustible(tanque1, tanque2, tanque3):\n",
    "    promedio=(tanque1+tanque2+tanque3)/3\n",
    "    return (print('Combustible', 'Promedio:',promedio,'Tanque1:',tanque1,'Tanque2:',tanque2, 'Tanque3:',tanque3))"
   ]
  },
  {
   "cell_type": "code",
   "execution_count": 11,
   "id": "b7a07614",
   "metadata": {},
   "outputs": [
    {
     "name": "stdout",
     "output_type": "stream",
     "text": [
      "Combustible Promedio: 0.0 Tanque1: 0 Tanque2: 0 Tanque3: 0\n"
     ]
    }
   ],
   "source": [
    "reporte_combustible(0,0,0)"
   ]
  },
  {
   "cell_type": "code",
   "execution_count": 16,
   "id": "18d16030",
   "metadata": {},
   "outputs": [],
   "source": [
    "def promedio(valores):\n",
    "    combustible=sum(valores)\n",
    "    ntanques=len(valores)\n",
    "    \n",
    "    \n",
    "    return combustible/ntanques"
   ]
  },
  {
   "cell_type": "code",
   "execution_count": 17,
   "id": "142293ef",
   "metadata": {},
   "outputs": [
    {
     "data": {
      "text/plain": [
       "3.0"
      ]
     },
     "execution_count": 17,
     "metadata": {},
     "output_type": "execute_result"
    }
   ],
   "source": [
    "promedio([2,3,4])\n"
   ]
  },
  {
   "cell_type": "code",
   "execution_count": 18,
   "id": "6d5a17d1",
   "metadata": {},
   "outputs": [],
   "source": [
    "def reporte_combustible(tanque1, tanque2, tanque3):\n",
    "   \n",
    "    return (print('Combustible', 'Promedio:',promedio([tanque1,tanque2,tanque3]),'Tanque1:',tanque1,'Tanque2:',tanque2, 'Tanque3:',tanque3))"
   ]
  },
  {
   "cell_type": "code",
   "execution_count": 19,
   "id": "e6273fa0",
   "metadata": {},
   "outputs": [
    {
     "name": "stdout",
     "output_type": "stream",
     "text": [
      "Combustible Promedio: 1.0 Tanque1: 1 Tanque2: 1 Tanque3: 1\n",
      "None\n"
     ]
    }
   ],
   "source": [
    "print(reporte_combustible(1,1,1))"
   ]
  },
  {
   "cell_type": "markdown",
   "id": "2568d69b",
   "metadata": {},
   "source": [
    "# Ejercicio 2"
   ]
  },
  {
   "cell_type": "code",
   "execution_count": 24,
   "id": "4b709861",
   "metadata": {},
   "outputs": [
    {
     "data": {
      "text/plain": [
       "' Destino: Mars , Hora: 12, Combustible: 2'"
      ]
     },
     "execution_count": 24,
     "metadata": {},
     "output_type": "execute_result"
    }
   ],
   "source": [
    "def informe_mision(hora_prelanzamiento,tiempo_vuelo,destino,tanque_i, tanque_ex):\n",
    "    return f\"\"\" Destino: {destino} , Hora: {hora_prelanzamiento + tiempo_vuelo}, Combustible: {tanque_i+ tanque_ex}\"\"\"\n",
    "informe_mision(10,2,\"Mars\",1,1)"
   ]
  },
  {
   "cell_type": "code",
   "execution_count": 32,
   "id": "6e0084f5",
   "metadata": {},
   "outputs": [
    {
     "name": "stdout",
     "output_type": "stream",
     "text": [
      " Destino:Mars, Tiempo de viaje:3, Combustible:30\n"
     ]
    }
   ],
   "source": [
    "def informe_mision(destino,*minutos,**combustible):\n",
    "    return f\"\"\" Destino:{destino}, Tiempo de viaje:{sum(minutos)}, Combustible:{sum(combustible.values())}\"\"\"\n",
    "print(informe_mision(\"Mars\",1,1,1,inte=10,ext=20))"
   ]
  },
  {
   "cell_type": "code",
   "execution_count": 33,
   "id": "e538b6e6",
   "metadata": {},
   "outputs": [
    {
     "name": "stdout",
     "output_type": "stream",
     "text": [
      " Destino:Mars, Tiempo de viaje:3, Combustible:30inte Tanque--->10 combustible restante\n"
     ]
    }
   ],
   "source": [
    "def informe_mision(destino,*minutos,**combustible):\n",
    "    reporte= f\"\"\" Destino:{destino}, Tiempo de viaje:{sum(minutos)}, Combustible:{sum(combustible.values())}\"\"\"\n",
    "    \n",
    "    for tanque, cantidad_combustible in combustible.items():\n",
    "        reporte += f\"{tanque} Tanque--->{cantidad_combustible} combustible restante\"\n",
    "        return reporte\n",
    "print(informe_mision(\"Mars\",1,1,1,inte=10, ext=20))"
   ]
  },
  {
   "cell_type": "code",
   "execution_count": 35,
   "id": "e205c152",
   "metadata": {},
   "outputs": [
    {
     "ename": "SyntaxError",
     "evalue": "invalid syntax (1852125002.py, line 1)",
     "output_type": "error",
     "traceback": [
      "\u001b[0;36m  File \u001b[0;32m\"/var/folders/m9/ds0dsz1d7mjfh3s9tbtz912w0000gn/T/ipykernel_47488/1852125002.py\"\u001b[0;36m, line \u001b[0;32m1\u001b[0m\n\u001b[0;31m    .items()\u001b[0m\n\u001b[0m    ^\u001b[0m\n\u001b[0;31mSyntaxError\u001b[0m\u001b[0;31m:\u001b[0m invalid syntax\n"
     ]
    }
   ],
   "source": []
  },
  {
   "cell_type": "code",
   "execution_count": null,
   "id": "a9dda918",
   "metadata": {},
   "outputs": [],
   "source": []
  }
 ],
 "metadata": {
  "kernelspec": {
   "display_name": "Python 3 (ipykernel)",
   "language": "python",
   "name": "python3"
  },
  "language_info": {
   "codemirror_mode": {
    "name": "ipython",
    "version": 3
   },
   "file_extension": ".py",
   "mimetype": "text/x-python",
   "name": "python",
   "nbconvert_exporter": "python",
   "pygments_lexer": "ipython3",
   "version": "3.9.7"
  }
 },
 "nbformat": 4,
 "nbformat_minor": 5
}
