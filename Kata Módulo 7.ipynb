{
 "cells": [
  {
   "cell_type": "markdown",
   "id": "878553ed",
   "metadata": {},
   "source": [
    "# Ejercicio 1: Creación de un bucle \"while\""
   ]
  },
  {
   "cell_type": "code",
   "execution_count": 20,
   "id": "47be481e",
   "metadata": {},
   "outputs": [],
   "source": [
    "new_planet=''\n",
    "planets=[]"
   ]
  },
  {
   "cell_type": "code",
   "execution_count": 21,
   "id": "a4ae4fda",
   "metadata": {},
   "outputs": [
    {
     "name": "stdout",
     "output_type": "stream",
     "text": [
      "Introduzca un planetatierra\n",
      "Introduzca un planetamarte\n",
      "Introduzca un planetasaturno\n",
      "Introduzca un planetadone\n"
     ]
    }
   ],
   "source": [
    "while new_planet!='done':\n",
    "        if new_planet:\n",
    "            planets.append(new_planet)\n",
    "        new_planet= input('Introduzca un planeta')\n"
   ]
  },
  {
   "cell_type": "code",
   "execution_count": 22,
   "id": "c9ef9fbb",
   "metadata": {},
   "outputs": [
    {
     "name": "stdout",
     "output_type": "stream",
     "text": [
      "['tierra', 'marte', 'saturno']\n"
     ]
    }
   ],
   "source": [
    "print(planets)"
   ]
  },
  {
   "cell_type": "markdown",
   "id": "7140b7a6",
   "metadata": {},
   "source": [
    "# Ejercicio 2: creación de ciclo for"
   ]
  },
  {
   "cell_type": "code",
   "execution_count": 23,
   "id": "8e60ca68",
   "metadata": {},
   "outputs": [
    {
     "name": "stdout",
     "output_type": "stream",
     "text": [
      "['tierra', 'marte', 'saturno']\n",
      "['tierra', 'marte', 'saturno']\n",
      "['tierra', 'marte', 'saturno']\n"
     ]
    }
   ],
   "source": [
    "for new_planet in planets:\n",
    "    print(planets)"
   ]
  },
  {
   "cell_type": "code",
   "execution_count": null,
   "id": "828a9978",
   "metadata": {},
   "outputs": [],
   "source": []
  }
 ],
 "metadata": {
  "kernelspec": {
   "display_name": "Python 3 (ipykernel)",
   "language": "python",
   "name": "python3"
  },
  "language_info": {
   "codemirror_mode": {
    "name": "ipython",
    "version": 3
   },
   "file_extension": ".py",
   "mimetype": "text/x-python",
   "name": "python",
   "nbconvert_exporter": "python",
   "pygments_lexer": "ipython3",
   "version": "3.9.7"
  }
 },
 "nbformat": 4,
 "nbformat_minor": 5
}
